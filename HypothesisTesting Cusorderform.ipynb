{
  "nbformat": 4,
  "nbformat_minor": 0,
  "metadata": {
    "colab": {
      "provenance": [],
      "authorship_tag": "ABX9TyP3Mi4TyuuNPqy9lPkDLIr1",
      "include_colab_link": true
    },
    "kernelspec": {
      "name": "python3",
      "display_name": "Python 3"
    },
    "language_info": {
      "name": "python"
    }
  },
  "cells": [
    {
      "cell_type": "markdown",
      "metadata": {
        "id": "view-in-github",
        "colab_type": "text"
      },
      "source": [
        "<a href=\"https://colab.research.google.com/github/Ranjithkrishnasamy/Datascience-assignments-1-to-5/blob/main/HypothesisTesting%20Cusorderform.ipynb\" target=\"_parent\"><img src=\"https://colab.research.google.com/assets/colab-badge.svg\" alt=\"Open In Colab\"/></a>"
      ]
    },
    {
      "cell_type": "code",
      "execution_count": 1,
      "metadata": {
        "id": "vllbY4EtawAi"
      },
      "outputs": [],
      "source": [
        "import pandas as pd\n",
        "from scipy.stats import chi2_contingency"
      ]
    },
    {
      "cell_type": "code",
      "source": [
        "path = r\"/content/Costomer+OrderForm.csv\""
      ],
      "metadata": {
        "id": "qZtZSf0GcLMS"
      },
      "execution_count": 2,
      "outputs": []
    },
    {
      "cell_type": "code",
      "source": [
        "data = pd.read_csv(path)"
      ],
      "metadata": {
        "id": "7NU_jc9ecIWa"
      },
      "execution_count": 3,
      "outputs": []
    },
    {
      "cell_type": "code",
      "source": [
        "philipines = data['Phillippines']\n",
        "indonesia = data['Indonesia']\n",
        "malta = data['Malta']\n",
        "india = data['India']"
      ],
      "metadata": {
        "id": "HMxnFvp2cUbH"
      },
      "execution_count": 5,
      "outputs": []
    },
    {
      "cell_type": "code",
      "source": [
        "contingency_table = pd.crosstab(index=philipines, columns=[indonesia, malta, india])"
      ],
      "metadata": {
        "id": "JfgZvm3Uchst"
      },
      "execution_count": 6,
      "outputs": []
    },
    {
      "cell_type": "code",
      "source": [
        "chi2, p_value, _, _ = chi2_contingency(contingency_table)"
      ],
      "metadata": {
        "id": "JwfbkMOBcl-U"
      },
      "execution_count": 7,
      "outputs": []
    },
    {
      "cell_type": "code",
      "source": [
        "alpha = 0.05"
      ],
      "metadata": {
        "id": "9pbpZjibcpTM"
      },
      "execution_count": 8,
      "outputs": []
    },
    {
      "cell_type": "code",
      "source": [
        "if p_value < alpha:\n",
        "    print(\"There is a significant difference among the four columns of categorical variables.\")\n",
        "else:\n",
        "    print(\"There is no significant difference among the four columns of categorical variables.\")"
      ],
      "metadata": {
        "colab": {
          "base_uri": "https://localhost:8080/"
        },
        "id": "Ic2imKT4ctNf",
        "outputId": "f92a20bc-5f1b-4f93-c923-c54b103a8ff7"
      },
      "execution_count": 9,
      "outputs": [
        {
          "output_type": "stream",
          "name": "stdout",
          "text": [
            "There is no significant difference among the four columns of categorical variables.\n"
          ]
        }
      ]
    },
    {
      "cell_type": "code",
      "source": [
        "print(\"Chi-Square statistic:\", chi2)\n",
        "print(\"P-value:\", p_value)"
      ],
      "metadata": {
        "colab": {
          "base_uri": "https://localhost:8080/"
        },
        "id": "aR-ifSU0cxaE",
        "outputId": "ab18b9a5-7da1-4491-f46d-724cfa9572ea"
      },
      "execution_count": 10,
      "outputs": [
        {
          "output_type": "stream",
          "name": "stdout",
          "text": [
            "Chi-Square statistic: 3.1001395592512266\n",
            "P-value: 0.6845505149379718\n"
          ]
        }
      ]
    }
  ]
}